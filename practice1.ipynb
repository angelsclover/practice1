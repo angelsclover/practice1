{
 "cells": [
  {
   "cell_type": "markdown",
   "id": "35e8acc2",
   "metadata": {},
   "source": [
    "### 실습과제-소수 만들기"
   ]
  },
  {
   "cell_type": "markdown",
   "id": "ab28437d",
   "metadata": {},
   "source": [
    "```python\n",
    "from itertools import combinations\n",
    "\n",
    "def prime(num):\n",
    "    if num < 2:\n",
    "        return False\n",
    "    for i in range(2, int(num ** 0.5) + 1):\n",
    "        if num % i == 0:\n",
    "            return False\n",
    "    return True\n",
    "```"
   ]
  },
  {
   "cell_type": "markdown",
   "id": "d70e1b20",
   "metadata": {},
   "source": [
    "###### 조합을 사용하기 위한 itertools 모듈을 가져오고, 소수를 판별하는 prime 함수를 만든다."
   ]
  },
  {
   "cell_type": "markdown",
   "id": "a867e32d",
   "metadata": {},
   "source": [
    "```python\n",
    "def solution(nums):\n",
    "    a=0\n",
    "    for i in combinations(nums,3):\n",
    "        if prime(sum(i)):\n",
    "            a+=1\n",
    "    return a\n",
    "        \n",
    "nums=[1,2,3,4,5,6,7]\n",
    "print(solution(nums))\n",
    "```"
   ]
  },
  {
   "cell_type": "markdown",
   "id": "3a781475",
   "metadata": {},
   "source": [
    "##### 리스트에 있는 숫자 중 3개의 합이 소수라면 a의 값에 1을 더하는 작업을 조합의 수만큼 반복하고, a의 값을 출력한다."
   ]
  }
 ],
 "metadata": {
  "kernelspec": {
   "display_name": "Python 3 (ipykernel)",
   "language": "python",
   "name": "python3"
  },
  "language_info": {
   "codemirror_mode": {
    "name": "ipython",
    "version": 3
   },
   "file_extension": ".py",
   "mimetype": "text/x-python",
   "name": "python",
   "nbconvert_exporter": "python",
   "pygments_lexer": "ipython3",
   "version": "3.9.12"
  }
 },
 "nbformat": 4,
 "nbformat_minor": 5
}
